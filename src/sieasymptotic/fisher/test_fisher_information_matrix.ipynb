{
 "cells": [
  {
   "cell_type": "code",
   "execution_count": 3,
   "metadata": {},
   "outputs": [],
   "source": [
    "import jax.numpy as jnp\n",
    "from jax import hessian\n",
    "import numpy as np\n",
    "import pylab as plt"
   ]
  },
  {
   "cell_type": "code",
   "execution_count": 12,
   "metadata": {},
   "outputs": [],
   "source": [
    "# Create a 2D gaussian model with correlations\n",
    "def chi_squared(x, x_median, Sigma=jnp.array([[0.5,0.5*0.5],[0.5*0.5,0.5]])):\n",
    "    X = x-x_median\n",
    "    XT = jnp.transpose(X)\n",
    "    return jnp.dot(XT, jnp.dot(jnp.linalg.inv(Sigma), X))\n",
    "\n",
    "def log_likelihood(x, x_median, sigmas):\n",
    "    return -1./2. * chi_squared(x, x_median, sigmas)"
   ]
  },
  {
   "cell_type": "code",
   "execution_count": 14,
   "metadata": {},
   "outputs": [
    {
     "name": "stdout",
     "output_type": "stream",
     "text": [
      "0.02666667\n"
     ]
    },
    {
     "data": {
      "text/plain": [
       "Array(0.02666667, dtype=float32)"
      ]
     },
     "execution_count": 14,
     "metadata": {},
     "output_type": "execute_result"
    }
   ],
   "source": [
    "x = jnp.array([0.1,0.1])\n",
    "x_median = jnp.array([0.,0.])\n",
    "print(chi_squared(x,x_median))\n",
    "( (x[0]-x_median[0])**2/0.5 + (x[1]-x_median[1])**2/0.5 - 2*0.5*(x[0]-x_median[0])*(x[1]-x_median[1])/0.5 )/(1-0.5**2)"
   ]
  },
  {
   "cell_type": "code",
   "execution_count": 18,
   "metadata": {},
   "outputs": [
    {
     "data": {
      "text/plain": [
       "array([[0.5 , 0.25],\n",
       "       [0.25, 0.5 ]], dtype=float32)"
      ]
     },
     "execution_count": 18,
     "metadata": {},
     "output_type": "execute_result"
    }
   ],
   "source": [
    "chi_squared_hessian = hessian(lambda x: chi_squared(x, x_median)/2)\n",
    "np.linalg.inv(chi_squared_hessian(x_median))"
   ]
  },
  {
   "cell_type": "code",
   "execution_count": null,
   "metadata": {},
   "outputs": [],
   "source": []
  }
 ],
 "metadata": {
  "kernelspec": {
   "display_name": "base",
   "language": "python",
   "name": "python3"
  },
  "language_info": {
   "codemirror_mode": {
    "name": "ipython",
    "version": 3
   },
   "file_extension": ".py",
   "mimetype": "text/x-python",
   "name": "python",
   "nbconvert_exporter": "python",
   "pygments_lexer": "ipython3",
   "version": "3.12.1"
  }
 },
 "nbformat": 4,
 "nbformat_minor": 2
}
