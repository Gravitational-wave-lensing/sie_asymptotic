{
 "cells": [
  {
   "cell_type": "code",
   "execution_count": 7,
   "metadata": {},
   "outputs": [],
   "source": [
    "# Lens equation solver for the SIE lens, based on asymptotic expansion.\n",
    "from jax import numpy as jnp\n",
    "import jax\n",
    "import numpy as np\n",
    "import sieasymptotic.profile as profile\n",
    "import sieasymptotic.solver as solver\n",
    "import sieasymptotic.utils as utils\n"
   ]
  },
  {
   "cell_type": "code",
   "execution_count": 8,
   "metadata": {},
   "outputs": [],
   "source": [
    "\n",
    "def first_order_image_perturbation(source_r, source_phi, f, omegatilde, f_prime):\n",
    "    \"\"\"\n",
    "    Calculate the first-order image perturbation for a given set of parameters.\n",
    "\n",
    "    Args:\n",
    "        source_r (jnp.array): The radial distance of the source.\n",
    "        source_phi (jnp.array): The angular position of the source.\n",
    "        f (jnp.array): The lensing potential.\n",
    "        omegatilde (jnp.array): The angular position of the perturbation.\n",
    "        f_prime (jnp.array): The derivative of the lensing potential.\n",
    "\n",
    "    Returns:\n",
    "        jnp.array: An array containing the first-order image perturbation.\n",
    "\n",
    "    \"\"\"\n",
    "    image_delta_phi = jnp.array([\n",
    "       source_r*jnp.sin(source_phi+omegatilde)/(jnp.sqrt(f)*(1./f_prime*jnp.arcsinh(f_prime/f)-1)),\n",
    "       source_r*jnp.cos(source_phi+omegatilde)/(jnp.sqrt(f)*(1./f-1./f_prime*jnp.arcsin(f_prime)) ),\n",
    "       -1*source_r*jnp.sin(source_phi+omegatilde)/(jnp.sqrt(f)*(1./f_prime*jnp.arcsinh(f_prime/f)-1)),\n",
    "       -1*source_r*jnp.cos(source_phi+omegatilde)/(jnp.sqrt(f)*(1./f-1./f_prime*jnp.arcsin(f_prime)) )\n",
    "    ])\n",
    "    image_delta_r = jnp.array([\n",
    "        source_r*jnp.cos(source_phi+omegatilde),\n",
    "        source_r*jnp.cos(source_phi+omegatilde),\n",
    "        -1*source_r*jnp.cos(source_phi+omegatilde),\n",
    "        -1*source_r*jnp.cos(source_phi+omegatilde),\n",
    "    ])\n",
    "    return jnp.array([image_delta_phi,image_delta_r])\n"
   ]
  },
  {
   "cell_type": "code",
   "execution_count": 9,
   "metadata": {},
   "outputs": [],
   "source": [
    "\n",
    "def solve_image_positions_polar(source_r, source_phi, f, omegatilde=0, sort_time_delay=False):\n",
    "    ''' Solve the lens equation for the SIE lens, using the asymptotic expansion, in polar coordinates.\n",
    "    \n",
    "    Args:\n",
    "        source_r (jnp.array): The radial coordinate of the source position.\n",
    "        source_phi (jnp.array): The angular coordinate of the source position.\n",
    "        f (jnp.array): The axis ratio of the lens.\n",
    "        omegatilde (jnp.array, optional): The angle between the major axis of the lens and the x-axis.\n",
    "        sort_time_delay (bool, optional): Whether to sort the image positions by arrival time. Defaults to True.\n",
    "    \n",
    "    Returns:\n",
    "        jnp.array: The radial coordinate of the image positions.\n",
    "    '''\n",
    "    # f, omegatilde = utils.convert_f_omegatilde(f, omegatilde, source_r.shape) # Ensure that f, omegatilde are jnp.arrays\n",
    "    # There are 4 solutions. We expand to first order.\n",
    "    # Asymptotic 0th order first image position:\n",
    "    # (Eq. 6 of https://academic.oup.com/mnras/article/442/1/428/1244014)\n",
    "    #k = jnp.arange(4)\n",
    "    image_phi_0 = jnp.array([\n",
    "        0. * jnp.pi/2-omegatilde,\n",
    "        1. * jnp.pi/2-omegatilde,\n",
    "        2. * jnp.pi/2-omegatilde,\n",
    "        3. * jnp.pi/2-omegatilde\n",
    "    ])\n",
    "    # (Eq. 9 and 10 of https://academic.oup.com/mnras/article/442/1/428/1244014)\n",
    "    f_prime = jnp.sqrt(1-f**2)\n",
    "    image_r_0 = jnp.array([\n",
    "        jnp.sqrt(f)/f_prime * jnp.arcsinh(f_prime/f),\n",
    "        jnp.sqrt(f)/f_prime * jnp.arcsin(f_prime),\n",
    "        jnp.sqrt(f)/f_prime * jnp.arcsinh(f_prime/f),\n",
    "        jnp.sqrt(f)/f_prime * jnp.arcsin(f_prime)\n",
    "    ])\n",
    "    \n",
    "    # Asymptotic 1st order perturbations to the image positions:\n",
    "    # (Eq. 14 and 15 of https://academic.oup.com/mnras/article/442/1/428/1244014)\n",
    "    image_delta_phi, image_delta_r = first_order_image_perturbation(source_r, source_phi, f, omegatilde, f_prime)\n",
    "    \n",
    "    # The image positions, to first order, are the sum of the first-order solution plus the perturbation\n",
    "    image_r = image_r_0+image_delta_r #jnp.transpose(image_r_0 + jnp.transpose(image_delta_r))\n",
    "    image_phi = image_phi_0+image_delta_phi#jnp.transpose(image_phi_0 + jnp.transpose(image_delta_phi))\n",
    "    image_positions = jnp.array([image_r, image_phi])\n",
    "    # if sort_time_delay:\n",
    "    #     # Sort the time delays (fermat potential)\n",
    "    #     fermat_polar = profile.fermat_potential_dimensionless_polar(image_positions[0], image_positions[1], source_r, source_phi, f, omegatilde)\n",
    "    #     image_positions, fermat_polar = utils.sort_images_by_arrival_time(image_positions, fermat_polar)\n",
    "    return image_positions\n"
   ]
  },
  {
   "cell_type": "code",
   "execution_count": 10,
   "metadata": {},
   "outputs": [],
   "source": [
    "\n",
    "def solve_image_positions_cartesian(source_x, source_y, f, omegatilde=0):\n",
    "    ''' Solve the lens equation for the SIE lens, using the asymptotic expansion, in Cartesian coordinates.\n",
    "    \n",
    "    Args:\n",
    "        source_x (jnp.array): The x-coordinate of the source position.\n",
    "        source_y (jnp.array): The y-coordinate of the source position.\n",
    "        f (jnp.array): The axis ratio of the lens.\n",
    "        omegatilde (jnp.array, optional): The angle between the major axis of the lens and the x-axis.\n",
    "    \n",
    "    Returns:\n",
    "        jnp.array: The x and y coordinates of the image positions.\n",
    "    '''\n",
    "    # Transform the source position to polar coordinates\n",
    "    source_polar = utils.transform_cartesian_to_polar(source_x, source_y, omegatilde)\n",
    "    source_r = source_polar[0]\n",
    "    source_phi = source_polar[1]\n",
    "    # Solve the lens equation in polar coordinates\n",
    "    images_polar = solve_image_positions_polar(source_r, source_phi, f, omegatilde)\n",
    "    image_r = images_polar[0]\n",
    "    image_phi = images_polar[1]\n",
    "    # Transform the image positions back to Cartesian coordinates\n",
    "    images_cartesian = utils.transform_polar_to_cartesian(image_r, image_phi, omegatilde)\n",
    "    image_x = images_cartesian[0]\n",
    "    image_y = images_cartesian[1]\n",
    "    return jnp.array([image_x, image_y])\n"
   ]
  },
  {
   "cell_type": "code",
   "execution_count": 61,
   "metadata": {},
   "outputs": [],
   "source": [
    "def solve_effective_luminosity_distances_and_time_delays(log_T_star, log_dL, f, source_r, source_phi, omegatilde):\n",
    "    \"\"\" Solve the effective luminosity distances and time delays for the SIE lens model based on asymptotic expansion.\n",
    "\n",
    "    Args:\n",
    "        T_star (jnp.array): The time-delay factor\n",
    "        dL (jnp.array): The luminosity distance.\n",
    "        f (jnp.array): The axis ratio\n",
    "        source_r (jnp.array): The radial coordinate of the source position.\n",
    "        source_phi (jnp.array): The polar coordinate of the source position.\n",
    "        omegatilde (float, optional): The angle between the source and the lens. Defaults to 0.\n",
    "\n",
    "    Returns:\n",
    "        jnp.array: The logarithm of the effective luminosity distances.\n",
    "        jnp.array: The logarithm of the time delays.\n",
    "    \"\"\"\n",
    "    # Solve the image positions\n",
    "    image_r, image_phi = solve_image_positions_polar(source_r, source_phi, f, omegatilde)\n",
    "    # Solve the Fermat potential\n",
    "    fermat_polar = profile.fermat_potential_dimensionless_polar(image_r, image_phi, source_r, source_phi, f, omegatilde)\n",
    "    # Calculate the magnification in polar coordinates\n",
    "    magnification_polar = profile.magnification_sie_polar(image_r, image_phi, f, omegatilde)\n",
    "    # The effective luminosity distances are the luminosity distances divided by the square root of the absolute value of the magnification\n",
    "    log_effective_luminosity_distances = log_dL - 0.5*jnp.log(jnp.abs(magnification_polar)) # effective_luminosity_distances = jnp.exp(log_dL)/jnp.sqrt(jnp.abs(magnification_polar))\n",
    "    # Time delays are the differences in arrival times\n",
    "    log_time_delays = log_T_star+jnp.log((fermat_polar - fermat_polar[0])[1:]) # time_delays = jnp.exp(log_T_star)*(fermat_polar - fermat_polar[0])\n",
    "    # Solve the effective luminosity distances and time delays\n",
    "    return log_effective_luminosity_distances, log_time_delays\n",
    "\n"
   ]
  },
  {
   "cell_type": "code",
   "execution_count": 62,
   "metadata": {},
   "outputs": [
    {
     "name": "stdout",
     "output_type": "stream",
     "text": [
      "image_x_0: 1.081691\n",
      "image_x_1: -0.015468864\n",
      "image_x_2: -1.0617574\n",
      "image_x_3: -0.015111169\n",
      "image_y_0: 0.08833263\n",
      "image_y_1: 0.8648949\n",
      "image_y_2: 0.08670466\n",
      "image_y_3: -0.84489816\n",
      "image_x_0: 1.081691\n",
      "image_x_1: -0.015468864\n",
      "image_x_2: -1.0617574\n",
      "image_x_3: -0.015111169\n",
      "image_y_0: 0.08833263\n",
      "image_y_1: 0.8648949\n",
      "image_y_2: 0.08670466\n",
      "image_y_3: -0.84489816\n"
     ]
    }
   ],
   "source": [
    "\n",
    "# If executed as main, test that the solver work\n",
    "source_x = jnp.array(0.01)  # example source x-coordinates\n",
    "source_y = jnp.array(0.03)  # example source y-coordinates\n",
    "f = 0.5  # example axis ratio\n",
    "omegatilde = 0  # example angle between major axis and x-axis\n",
    "image_positions = solve_image_positions_cartesian(source_x, source_y, f, omegatilde)\n",
    "\n",
    "def print_images(image_positions):\n",
    "    image_x = image_positions[0]\n",
    "    image_y = image_positions[1]\n",
    "    print(\"image_x_0:\", image_x[0])\n",
    "    print(\"image_x_1:\", image_x[1])\n",
    "    print(\"image_x_2:\", image_x[2])\n",
    "    print(\"image_x_3:\", image_x[3])\n",
    "    print(\"image_y_0:\", image_y[0])\n",
    "    print(\"image_y_1:\", image_y[1])\n",
    "    print(\"image_y_2:\", image_y[2])\n",
    "    print(\"image_y_3:\", image_y[3])\n",
    "print_images(image_positions)\n",
    "\n",
    "# Now try to solve the image positions not as arrays\n",
    "image_positions = solve_image_positions_cartesian(source_x, source_y, 0.5, 0)\n",
    "print_images(image_positions)\n"
   ]
  },
  {
   "cell_type": "code",
   "execution_count": 63,
   "metadata": {},
   "outputs": [
    {
     "name": "stdout",
     "output_type": "stream",
     "text": [
      "0.59246624\n"
     ]
    }
   ],
   "source": [
    "# Test gradient\n",
    "source_x = jnp.array(0.01)  # example source x-coordinates\n",
    "source_y = jnp.array(0.03)  # example source y-coordinates\n",
    "source_positions = jnp.array([source_x, source_y])\n",
    "f = jnp.array(0.5)  # example axis ratio\n",
    "omegatilde = jnp.array(0)  # example angle between major axis and x-axis\n",
    "image_positions = solve_image_positions_cartesian(source_x, source_y, f, omegatilde)\n",
    "image_positions_gradient = jax.hessian(lambda x: profile.fermat_potential_dimensionless_cartesian(image_positions[0][0], image_positions[1][0], source_x, source_y, x, omegatilde))(f)\n",
    "print(image_positions_gradient)"
   ]
  },
  {
   "cell_type": "code",
   "execution_count": 64,
   "metadata": {},
   "outputs": [
    {
     "name": "stdout",
     "output_type": "stream",
     "text": [
      "0.59246624\n"
     ]
    }
   ],
   "source": [
    "source_r, source_phi = utils.transform_cartesian_to_polar(source_x, source_y, omegatilde)\n",
    "source_positions = jnp.array([source_r, source_phi])\n",
    "image_positions = solve_image_positions_polar(source_r, source_phi, f, omegatilde)\n",
    "image_positions_gradient = jax.hessian(lambda x: profile.fermat_potential_dimensionless_polar(image_positions[0][0], image_positions[1][0], source_r, source_phi, x, omegatilde))(f)\n",
    "print(image_positions_gradient)"
   ]
  },
  {
   "cell_type": "code",
   "execution_count": 65,
   "metadata": {},
   "outputs": [
    {
     "data": {
      "text/plain": [
       "Array(-0.09878385, dtype=float32, weak_type=True)"
      ]
     },
     "execution_count": 65,
     "metadata": {},
     "output_type": "execute_result"
    }
   ],
   "source": [
    "# Calculate the time delay factor\n",
    "from astropy.cosmology import Planck18\n",
    "zl = 0.5\n",
    "zs = 1.0\n",
    "c_km_s = 299792.0\n",
    "sigma = 200.0/c_km_s\n",
    "T_star = profile.time_delay_factor(zl, zs, sigma)\n",
    "fermat_polar = profile.fermat_potential_dimensionless_polar(image_positions[0], image_positions[1], source_r, source_phi, f)\n",
    "arrival_times = T_star*fermat_polar\n",
    "log_T_star = jnp.log(T_star)\n",
    "log_time_delays = log_T_star + jnp.log(fermat_polar - fermat_polar[0])[1:]\n",
    "magnification_polar = profile.magnification_sie_polar(image_positions[0], image_positions[1], f, omegatilde)\n",
    "log_sqrt_abs_magnification = jnp.log(jnp.sqrt(jnp.abs(magnification_polar)))\n",
    "log_dL = jnp.log(Planck18.luminosity_distance(zl).value)\n",
    "log_dL_effectives = log_dL - log_sqrt_abs_magnification\n",
    "\n",
    "jax.grad( lambda x: solve_effective_luminosity_distances_and_time_delays(log_T_star, log_dL, x, source_r, source_phi, omegatilde)[1][1] )(f)"
   ]
  },
  {
   "cell_type": "code",
   "execution_count": 66,
   "metadata": {},
   "outputs": [
    {
     "data": {
      "text/plain": [
       "(Array([7.448733 , 7.7494144, 7.4306755, 7.779072 ], dtype=float32),\n",
       " Array([13.181413, 10.957501, 13.411541], dtype=float32))"
      ]
     },
     "execution_count": 66,
     "metadata": {},
     "output_type": "execute_result"
    }
   ],
   "source": [
    "solve_effective_luminosity_distances_and_time_delays(log_T_star, log_dL, f+0.001, source_r, source_phi, omegatilde)"
   ]
  },
  {
   "cell_type": "code",
   "execution_count": null,
   "metadata": {},
   "outputs": [],
   "source": []
  }
 ],
 "metadata": {
  "kernelspec": {
   "display_name": "base",
   "language": "python",
   "name": "python3"
  },
  "language_info": {
   "codemirror_mode": {
    "name": "ipython",
    "version": 3
   },
   "file_extension": ".py",
   "mimetype": "text/x-python",
   "name": "python",
   "nbconvert_exporter": "python",
   "pygments_lexer": "ipython3",
   "version": "3.12.1"
  }
 },
 "nbformat": 4,
 "nbformat_minor": 2
}
