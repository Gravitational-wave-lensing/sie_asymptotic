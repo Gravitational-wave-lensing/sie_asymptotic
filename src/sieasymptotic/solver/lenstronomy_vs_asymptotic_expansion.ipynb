{
 "cells": [
  {
   "cell_type": "code",
   "execution_count": 19,
   "metadata": {},
   "outputs": [],
   "source": [
    "# import the lens model class \n",
    "from lenstronomy.LensModel.lens_model import LensModel\n",
    "from lenstronomy.LensModel.lens_model_extensions import LensModelExtensions\n",
    "# import the lens equation solver class (finding image plane positions of a source position)\n",
    "from lenstronomy.LensModel.Solver.lens_equation_solver import LensEquationSolver\n",
    "\n",
    "import sieasymptotic.solver as solver"
   ]
  },
  {
   "cell_type": "code",
   "execution_count": 23,
   "metadata": {},
   "outputs": [],
   "source": [
    "# chose a lens model (list of parameterized lens models)\n",
    "lens_model_list = ['SIE']\n",
    "kwargs_sie = {'theta_E': 1., 'e1': 0.0, 'e2': 0.05, 'center_x': 0.0, 'center_y': 0}\n",
    "kwargs_lens_list = [kwargs_sie]\n",
    "\n",
    "#initialize classes with the specific lens models\n",
    "lensModel = LensModel(lens_model_list)\n",
    "lensEquationSolver = LensEquationSolver(lensModel)\n",
    "# Get the axis ratio of the lens model\n",
    "import lenstronomy.Util.param_util as param_util\n",
    "e1, e2 = kwargs_sie['e1'], kwargs_sie['e2']\n",
    "q_phi, q = param_util.ellipticity2phi_q(e1, e2)\n",
    "print(q, q_phi)\n",
    "f = q"
   ]
  },
  {
   "cell_type": "code",
   "execution_count": 30,
   "metadata": {},
   "outputs": [
    {
     "name": "stdout",
     "output_type": "stream",
     "text": [
      "image positions:  [ 0.72658837 -0.70988864  0.68802502 -0.70132475]\n"
     ]
    }
   ],
   "source": [
    "# choose a source position\n",
    "x_source, y_source = 0.001, 0.0\n",
    "# compute image position of full model (with numerical options attached)\n",
    "x_image, y_image = lensEquationSolver.image_position_from_source(kwargs_lens=kwargs_lens_list, sourcePos_x=x_source, sourcePos_y=y_source, min_distance=0.01, search_window=5, precision_limit=10**(-10), num_iter_max=100)\n",
    "print('image positions: ', x_image)"
   ]
  },
  {
   "cell_type": "code",
   "execution_count": 31,
   "metadata": {},
   "outputs": [
    {
     "name": "stdout",
     "output_type": "stream",
     "text": [
      "0.9047619047619047 0.7853981633974483\n"
     ]
    }
   ],
   "source": [
    "# Get the axis ratio of the lens model\n",
    "import lenstronomy.Util.param_util as param_util\n",
    "e1, e2 = kwargs_sie['e1'], kwargs_sie['e2']\n",
    "q_phi, q = param_util.ellipticity2phi_q(e1, e2)\n",
    "print(q, q_phi)\n",
    "f = q"
   ]
  },
  {
   "cell_type": "code",
   "execution_count": 29,
   "metadata": {},
   "outputs": [
    {
     "name": "stdout",
     "output_type": "stream",
     "text": [
      "[ 1.0259129  -0.1439104  -1.0059129  -0.14101076]\n"
     ]
    }
   ],
   "source": [
    "# Now solve using asymptotic expansion\n",
    "image_positions = solver.solve_image_positions_cartesian(x_source, y_source, f, 0)\n",
    "print(image_positions[0])"
   ]
  },
  {
   "cell_type": "code",
   "execution_count": null,
   "metadata": {},
   "outputs": [],
   "source": []
  }
 ],
 "metadata": {
  "kernelspec": {
   "display_name": "base",
   "language": "python",
   "name": "python3"
  },
  "language_info": {
   "codemirror_mode": {
    "name": "ipython",
    "version": 3
   },
   "file_extension": ".py",
   "mimetype": "text/x-python",
   "name": "python",
   "nbconvert_exporter": "python",
   "pygments_lexer": "ipython3",
   "version": "3.12.1"
  }
 },
 "nbformat": 4,
 "nbformat_minor": 2
}
